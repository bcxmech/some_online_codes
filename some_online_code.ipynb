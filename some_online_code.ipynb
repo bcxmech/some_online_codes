{
  "nbformat": 4,
  "nbformat_minor": 0,
  "metadata": {
    "colab": {
      "provenance": [],
      "name": "some_online_code.ipynb"
    },
    "kernelspec": {
      "name": "python3",
      "display_name": "Python 3"
    },
    "language_info": {
      "name": "python"
    }
  },
  "cells": [
    {
      "cell_type": "code",
      "execution_count": 24,
      "metadata": {
        "id": "9fflFNfBOojM",
        "colab": {
          "base_uri": "https://localhost:8080/"
        },
        "outputId": "b2d8b53c-7af6-4c15-b9b7-a8e5d5a68084"
      },
      "outputs": [
        {
          "output_type": "stream",
          "name": "stderr",
          "text": [
            "Setting `pad_token_id` to `eos_token_id`:50256 for open-end generation.\n"
          ]
        },
        {
          "output_type": "execute_result",
          "data": {
            "text/plain": [
              "[{'generated_text': \"Hello, I'm a language model based on the C# template syntax and\"}]"
            ]
          },
          "metadata": {},
          "execution_count": 24
        }
      ],
      "source": [
        "from transformers import pipeline\n",
        "generator = pipeline('text-generation', model = 'gpt2')\n",
        "generator(\"Hello, I'm a language model\", max_length = 15, num_return_sequences=1)"
      ]
    },
    {
      "cell_type": "code",
      "source": [
        "input_sentence = 'You might also consider'"
      ],
      "metadata": {
        "id": "qs5BIYSeUAsI"
      },
      "execution_count": 27,
      "outputs": []
    },
    {
      "cell_type": "code",
      "source": [
        "generated_sentence = generator(input_sentence)"
      ],
      "metadata": {
        "colab": {
          "base_uri": "https://localhost:8080/"
        },
        "id": "BPazSHdjUxNn",
        "outputId": "0321e806-c9a5-43c5-fca5-a7332096f7cb"
      },
      "execution_count": 28,
      "outputs": [
        {
          "output_type": "stream",
          "name": "stderr",
          "text": [
            "Setting `pad_token_id` to `eos_token_id`:50256 for open-end generation.\n"
          ]
        }
      ]
    },
    {
      "cell_type": "code",
      "source": [
        "generated_sentence[0]['generated_text']"
      ],
      "metadata": {
        "colab": {
          "base_uri": "https://localhost:8080/",
          "height": 35
        },
        "id": "mJzNbLwHU0Sl",
        "outputId": "23043ecf-7880-42d5-f14e-389f351035b2"
      },
      "execution_count": 29,
      "outputs": [
        {
          "output_type": "execute_result",
          "data": {
            "text/plain": [
              "'You might also consider joining an email list on facebook but I want to remain spoiler free.'"
            ],
            "application/vnd.google.colaboratory.intrinsic+json": {
              "type": "string"
            }
          },
          "metadata": {},
          "execution_count": 29
        }
      ]
    },
    {
      "cell_type": "code",
      "source": [],
      "metadata": {
        "id": "JtRe7h2TVFk4"
      },
      "execution_count": null,
      "outputs": []
    }
  ]
}